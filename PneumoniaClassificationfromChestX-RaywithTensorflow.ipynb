{
 "cells": [
  {
   "cell_type": "code",
   "execution_count": 11,
   "metadata": {},
   "outputs": [],
   "source": [
    "import numpy as np\n",
    "import pandas as pd\n",
    "from keras.preprocessing.image import ImageDataGenerator\n",
    "\n",
    "import keras\n",
    "from keras.models import Sequential\n",
    "from keras.layers import Dense, Dropout, Flatten, Conv2D, MaxPooling2D\n",
    "from keras.utils import to_categorical\n",
    "from keras.preprocessing import image\n",
    "\n",
    "import tensorflow as tf\n",
    "import cv2\n",
    "from PIL import Image\n",
    "import os\n",
    "from tqdm import tqdm #Used to display a progress bar\n",
    "import glob #To count number of files in the specified directory\n",
    "import gc\n",
    "\n",
    "\n",
    "\n",
    "import sys\n",
    "from sys import getsizeof #to check size of variables, in bytes (Divide value by 1e+9 to check in Gb )"
   ]
  },
  {
   "cell_type": "code",
   "execution_count": 7,
   "metadata": {},
   "outputs": [],
   "source": [
    "#Path variables\n",
    "path_train_normal = r\"C:\\Users\\nikhil\\Documents\\Datasets\\chest_xray\\train\"\n",
    "path_train_pnem = r\"C:\\Users\\nikhil\\Documents\\Datasets\\chest_xray\\train\\PNEUMONIA\""
   ]
  },
  {
   "cell_type": "code",
   "execution_count": 4,
   "metadata": {},
   "outputs": [],
   "source": [
    "train_datagen = ImageDataGenerator(rescale = 1./255, shear_range = .2, zoom_range = .2, horizontal_flip = True)\n",
    "test_datagen = ImageDataGenerator(rescale = 1./255)"
   ]
  },
  {
   "cell_type": "code",
   "execution_count": 8,
   "metadata": {},
   "outputs": [
    {
     "name": "stdout",
     "output_type": "stream",
     "text": [
      "Found 5216 images belonging to 2 classes.\n"
     ]
    }
   ],
   "source": [
    "trainingset_Normal = train_datagen.flow_from_directory(path_train_normal, target_size = (64, 64), batch_size = 32, class_mode = 'binary')"
   ]
  },
  {
   "cell_type": "code",
   "execution_count": null,
   "metadata": {},
   "outputs": [],
   "source": []
  },
  {
   "cell_type": "code",
   "execution_count": null,
   "metadata": {},
   "outputs": [],
   "source": [
    "#Function to read all images in the NORMAL directory\n",
    "\n",
    "#This is to count number of files in the specified directory\n",
    "count_jpeg_normal = len(glob.glob1(path_train_normal,\"*.jpeg\"))\n",
    "\n",
    "images_normal = []\n",
    "for i in tqdm(range(count_jpeg_normal)):\n",
    "    img = image.load_img(path_train_normal +\"/\"+ str(glob.glob1(path_train_normal,\"*.jpeg\")[i]), grayscale = False)\n",
    "    img = image.img_to_array(img) #Convert the image to an array\n",
    "    img = img/255 #Divide each element of the array by 255, so we get an array ranging from 0 to 1 (RGB = 255, 255, 255)\n",
    "    images_normal.append(img) #Append the array to the earlier initalized array\n",
    "\n"
   ]
  },
  {
   "cell_type": "code",
   "execution_count": null,
   "metadata": {},
   "outputs": [],
   "source": [
    "X_norman = np.array(images_normal)"
   ]
  },
  {
   "cell_type": "code",
   "execution_count": null,
   "metadata": {},
   "outputs": [],
   "source": []
  },
  {
   "cell_type": "code",
   "execution_count": null,
   "metadata": {},
   "outputs": [],
   "source": []
  },
  {
   "cell_type": "code",
   "execution_count": null,
   "metadata": {},
   "outputs": [],
   "source": [
    "y_normal = np.zeros(count_jpeg_normal).reshape(1 ,-1).T #Labels of people without Pneumonia"
   ]
  },
  {
   "cell_type": "code",
   "execution_count": null,
   "metadata": {},
   "outputs": [],
   "source": [
    "#Function to read all images in the PNEUMONIA directory\n",
    "\n",
    "\n",
    "#This is to count number of files in the specified directory\n",
    "count_jpeg_pneum = len(glob.glob1(path_train_pnem,\"*.jpeg\"))\n",
    "\n",
    "images_pneum = []\n",
    "for i in tqdm(range(count_jpeg_pneum)):\n",
    "    img = image.load_img(path_train_pnem +\"/\"+ str(glob.glob1(path_train_pnem,\"*.jpeg\")[i]), grayscale = False)\n",
    "    img = image.img_to_array(img) #Convert the image to an array\n",
    "    img = img/255 #Divide each element of the array by 255, so we get an array ranging from 0 to 1 (RGB = 255, 255, 255)\n",
    "    images_pneum.append(img) #Append the array to the earlier initalized array"
   ]
  },
  {
   "cell_type": "code",
   "execution_count": null,
   "metadata": {},
   "outputs": [],
   "source": [
    "y_pnem = np.zeros(count_jpeg_pneum).reshape(1 ,-1).T #Labels of people with Pneumonia\n"
   ]
  },
  {
   "cell_type": "code",
   "execution_count": null,
   "metadata": {},
   "outputs": [],
   "source": []
  },
  {
   "cell_type": "code",
   "execution_count": null,
   "metadata": {},
   "outputs": [],
   "source": [
    "model = Sequential()\n",
    "model.add(Conv2D(64, kernel_size = (3, 3), activation = 'relu', input_shape = (X_train.shape[1], X_train.shape[2], X_train.shape[3])))\n",
    "model.add(Conv2D(64, (3, 3), activation = 'relu'))\n",
    "model.add(MaxPooling2D(pool_size = (2, 2)))\n",
    "model.add(Dropout(0.25))\n",
    "model.add(Flatten())\n",
    "model.add(Dense(128, activation = 'relu'))\n",
    "model.add(Dropout(0.5))\n",
    "model.add(Dense(2, activation = 'softmax'))\n",
    "\n",
    "model.compile(loss = 'categorical_crossentropy', optimizer = 'adam', metrics = ['accuracy'])"
   ]
  }
 ],
 "metadata": {
  "kernelspec": {
   "display_name": "Python 3",
   "language": "python",
   "name": "python3"
  },
  "language_info": {
   "codemirror_mode": {
    "name": "ipython",
    "version": 3
   },
   "file_extension": ".py",
   "mimetype": "text/x-python",
   "name": "python",
   "nbconvert_exporter": "python",
   "pygments_lexer": "ipython3",
   "version": "3.7.3"
  }
 },
 "nbformat": 4,
 "nbformat_minor": 2
}
